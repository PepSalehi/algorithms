{
 "cells": [
  {
   "cell_type": "code",
   "execution_count": null,
   "metadata": {
    "collapsed": false
   },
   "outputs": [],
   "source": [
    "%matplotlib inline\n",
    "import pandas as pd\n",
    "import seaborn as sns\n",
    "import numpy as np"
   ]
  },
  {
   "cell_type": "code",
   "execution_count": null,
   "metadata": {
    "collapsed": false
   },
   "outputs": [],
   "source": [
    "df = pd.read_csv('data.csv')"
   ]
  },
  {
   "cell_type": "code",
   "execution_count": null,
   "metadata": {
    "collapsed": false
   },
   "outputs": [],
   "source": [
    "list(df.columns.values)"
   ]
  },
  {
   "cell_type": "code",
   "execution_count": null,
   "metadata": {
    "collapsed": false
   },
   "outputs": [],
   "source": [
    "# Data cleaning\n",
    "df.loc[df.AnzahlSexualpartnerAllgemein > 10000, 'AnzahlSexualpartnerAllgemein'] = float('inf')\n",
    "df.loc[df.AnzahlSexualpartnerGreifswald > 10000, 'AnzahlSexualpartnerGreifswald'] = float('inf')\n",
    "df.loc[df.AnzahlStechmuecken > 10000, 'AnzahlStechmuecken'] = float('inf')\n",
    "df.loc[df.Groesse < 20, 'Groesse'] = None\n",
    "# sorted(df[['LaengeFreundschaft']].values)\n",
    "df.loc[df.LaengeFreundschaft > 100, ['Alter', 'LaengeFreundschaft']] = None"
   ]
  },
  {
   "cell_type": "code",
   "execution_count": null,
   "metadata": {
    "collapsed": false
   },
   "outputs": [],
   "source": [
    "grouped = df.groupby('Geschlecht')\n",
    "grouped['EigeneAttraktivitaet'].hist(alpha=0.4, position=0, bins=range(1, 11))"
   ]
  },
  {
   "cell_type": "code",
   "execution_count": null,
   "metadata": {
    "collapsed": false
   },
   "outputs": [],
   "source": [
    "\n",
    "df.loc[(df.Geschlecht == 'Weiblich') & (df.AnzahlStechmuecken < 100), 'AnzahlStechmuecken'].plot.hist()\n",
    "df.loc[(df.Geschlecht == 'Männlich') & (df.AnzahlStechmuecken < 100), 'AnzahlStechmuecken'].plot.hist()"
   ]
  },
  {
   "cell_type": "code",
   "execution_count": null,
   "metadata": {
    "collapsed": false
   },
   "outputs": [],
   "source": [
    "df.loc[(df.Geschlecht == 'Weiblich') & (df.AnzahlStechmuecken < 100), 'AnzahlStechmuecken'].plot.hist(alpha=0.5)\n",
    "df.loc[(df.Geschlecht == 'Männlich') & (df.AnzahlStechmuecken < 100), 'AnzahlStechmuecken'].plot.hist(alpha=0.5)"
   ]
  },
  {
   "cell_type": "code",
   "execution_count": null,
   "metadata": {
    "collapsed": false
   },
   "outputs": [],
   "source": [
    "df.loc[df.Geschlecht == 'Männlich', 'EigeneAttraktivitaet'].plot.hist(bins=range(1, 11),alpha=0.5)"
   ]
  },
  {
   "cell_type": "code",
   "execution_count": null,
   "metadata": {
    "collapsed": false
   },
   "outputs": [],
   "source": [
    "# df.loc['EigeneAttraktivitaet'].plot.hist()\n",
    "df.loc[df.Geschlecht == 'Weiblich', 'EigeneAttraktivitaet'].plot.hist(bins=range(1, 11), alpha=0.5)"
   ]
  },
  {
   "cell_type": "code",
   "execution_count": null,
   "metadata": {
    "collapsed": false
   },
   "outputs": [],
   "source": [
    "categorial = ['Geschlecht',\n",
    "              'Studienfach',\n",
    "              'AG',\n",
    "              'ZungeRollen',\n",
    "              'BeziehungsstatusVorher',\n",
    "              'BeziehungsstatusNachher',\n",
    "              'Tinder',\n",
    "              'GrundSpaetInsBett',\n",
    "              'BesterAbendvortrag',\n",
    "              'Transportmittel',\n",
    "              'Gendern',\n",
    "              'PlutoPlanet',\n",
    "              'ArtikelButter',\n",
    "              'ArtikelNutella',\n",
    "              'NutellaMitButter',\n",
    "              'SchoensterDialekt',\n",
    "              'PfluegenOderNicht',\n",
    "              'BestaussehenderMann',\n",
    "              'BestaussehendeFrau',\n",
    "              'WegZumStipendium',\n",
    "              'Fu\\xc3\\x9fnoten',\n",
    "              'BeziehungMitStifti',\n",
    "              'InEinemWort']\n",
    "numeric_cols = ['Alter',\n",
    " 'AnzahlSommerakademien',\n",
    " 'LaengeAnfahrt',\n",
    " 'AnzahlSprachen',\n",
    " 'AnzahlGeschwister',\n",
    " 'AnzahlVornamen',\n",
    " 'Groesse',\n",
    " 'AnzahlStaatsbuergerschaften',\n",
    " 'LaengeFreundschaft',\n",
    " 'AnzahlPokemon',\n",
    " 'MengeKaffee',\n",
    " 'AnzahlSexualpartnerAllgemein',\n",
    " 'AnzahlSexualpartnerGreifswald',\n",
    " 'StundenSport',\n",
    " 'AnzahlBuecher',\n",
    " 'AnzahlFacebookfreunde',\n",
    " 'DurchschnittAbi',\n",
    " 'DurchschnittAktuell',\n",
    " 'QuersummePIN',\n",
    " 'MengeBargeld',\n",
    " 'AnzahlZimmergenossen',\n",
    " 'MengeSchlaf',\n",
    " 'DauerVorbereitungZuhause',\n",
    " 'DauerVorbereitungGreifswald',\n",
    " 'GeldMensakarte',\n",
    " 'AnzahlAbendvortraegeGeschwaenzt',\n",
    " 'AnzahlFremdeBetten',\n",
    " 'ZeitAufWasser',\n",
    " 'AnzahlStechmuecken',\n",
    " 'EigeneAttraktivitaet',]\n",
    "\n",
    "print(\"Datenpunkte: %i\" % len(df))\n",
    "for val in numeric_cols:\n",
    "    if val in ['AnzahlSexualpartnerAllgemein', 'AnzahlSexualpartnerGreifswald', 'AnzahlStechmuecken']:\n",
    "        continue\n",
    "    print(\"{0:>32}: {1:>06.2f} (Range: {2:>4.2f} - {3:>4.2f})\\t Mean: {4:>5.2f}\".format(\n",
    "           val,\n",
    "           float(df[[val]].median()),\n",
    "           float(df[[val]].min()),\n",
    "           float(df[[val]].max()),\n",
    "           float(df[[val]].mean())))\n",
    "    print(\"{0:>32}, Group: abs min (AG {1: .0f}) abs max (AG {2: .0f}), mean min (AG {3: .0f}), mean max (AG {4: .0f})\".format(\n",
    "          val,\n",
    "          df.groupby('AG')[val].min().idxmin(),\n",
    "          df.groupby('AG')[val].max().idxmax(),\n",
    "          df.groupby('AG')[val].mean().idxmin(),\n",
    "          df.groupby('AG')[val].mean().idxmax()))\n",
    "    print(\"{0:>32}, Group: median min={1} (AG {2: .0f}), median max={3} (AG {4: .0f}), sum={5} (AG {6: .0f})\".format(\n",
    "          val,\n",
    "          df.groupby('AG')[val].median().min(),\n",
    "          df.groupby('AG')[val].median().idxmin(),\n",
    "          df.groupby('AG')[val].median().max(),\n",
    "          df.groupby('AG')[val].median().idxmax(),\n",
    "          df.groupby('AG')[val].sum().max(),\n",
    "          df.groupby('AG')[val].sum().idxmax()))\n",
    "    val_min = int(min(df[val]))\n",
    "    val_max = int(min(10000, max(df[val])))\n",
    "    # df[[val]].plot.hist(bins=np.linspace(minimum, maximum, 10), alpha=0.5, normed=True)\n",
    "    #df.loc[df.Geschlecht == 'Weiblich', val].plot.hist(bins=np.linspace(minimum, maximum, 10), alpha=0.5, normed=True)\n",
    "    # df.loc[df.Geschlecht == 'Männlich', val].plot.hist(bins=np.linspace(minimum, maximum, 10), alpha=0.5, normed=True)\n",
    "    \n",
    "df.groupby('AG')['ZungeRollen'].describe()"
   ]
  },
  {
   "cell_type": "code",
   "execution_count": null,
   "metadata": {
    "collapsed": false
   },
   "outputs": [],
   "source": [
    "# TODO\n",
    "df.groupby('AG')[\"StundenSport\"].mean()"
   ]
  },
  {
   "cell_type": "code",
   "execution_count": null,
   "metadata": {
    "collapsed": false
   },
   "outputs": [],
   "source": [
    "df.groupby('Geschlecht').describe()\n"
   ]
  },
  {
   "cell_type": "code",
   "execution_count": null,
   "metadata": {
    "collapsed": false
   },
   "outputs": [],
   "source": [
    "df[df.AG == 5]"
   ]
  },
  {
   "cell_type": "code",
   "execution_count": null,
   "metadata": {
    "collapsed": false
   },
   "outputs": [],
   "source": [
    "df[(df.Geschlecht == \"Weiblich\") & (df.PlutoPlanet == 'Ist das nicht der Hund von Goofy?')]"
   ]
  },
  {
   "cell_type": "code",
   "execution_count": null,
   "metadata": {
    "collapsed": false
   },
   "outputs": [],
   "source": [
    "gb = df[(df.Geschlecht == \"Weiblich\")].groupby(\"PlutoPlanet\")\n",
    "gb.sum()"
   ]
  },
  {
   "cell_type": "code",
   "execution_count": null,
   "metadata": {
    "collapsed": false
   },
   "outputs": [],
   "source": [
    "gb = df.groupby(\"AG\")\n",
    "gb.sum()[[\"\"]]\n",
    "gb.sum()"
   ]
  },
  {
   "cell_type": "code",
   "execution_count": null,
   "metadata": {
    "collapsed": false
   },
   "outputs": [],
   "source": [
    "gb.groups"
   ]
  },
  {
   "cell_type": "code",
   "execution_count": null,
   "metadata": {
    "collapsed": false
   },
   "outputs": [],
   "source": []
  }
 ],
 "metadata": {
  "kernelspec": {
   "display_name": "Python 3",
   "language": "python",
   "name": "python3"
  },
  "language_info": {
   "codemirror_mode": {
    "name": "ipython",
    "version": 3
   },
   "file_extension": ".py",
   "mimetype": "text/x-python",
   "name": "python",
   "nbconvert_exporter": "python",
   "pygments_lexer": "ipython3",
   "version": "3.5.2"
  }
 },
 "nbformat": 4,
 "nbformat_minor": 0
}
